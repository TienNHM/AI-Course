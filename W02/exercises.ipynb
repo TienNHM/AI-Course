{
 "cells": [
  {
   "cell_type": "markdown",
   "metadata": {},
   "source": [
    "Bài 6: Ma trận chuyển vị (transpose) được tạo ra bằng cách lật ma trận ban đầu theo trục chéo:\n",
    "\n",
    "![image](https://upload.wikimedia.org/wikipedia/commons/e/e4/Matrix_transpose.gif)"
   ]
  },
  {
   "cell_type": "code",
   "execution_count": 3,
   "metadata": {},
   "outputs": [
    {
     "name": "stdout",
     "output_type": "stream",
     "text": [
      "Ma trận ban đầu: \n",
      "[[1 2 3]\n",
      " [4 5 6]]\n",
      "Ma trận chuyển vị: \n",
      "[[1 4]\n",
      " [2 5]\n",
      " [3 6]]\n"
     ]
    }
   ],
   "source": [
    "import numpy as np\n",
    "\n",
    "def transpose(matrix):\n",
    "    return np.transpose(matrix)\n",
    "\n",
    "if __name__ == \"__main__\":\n",
    "    matrix = np.array([[1, 2, 3], [4, 5, 6]])\n",
    "    print(\"Ma trận ban đầu: \")\n",
    "    print(matrix)\n",
    "\n",
    "    print(\"Ma trận chuyển vị: \")\n",
    "    print(transpose(matrix))"
   ]
  }
 ],
 "metadata": {
  "kernelspec": {
   "display_name": "Python 3",
   "language": "python",
   "name": "python3"
  },
  "language_info": {
   "codemirror_mode": {
    "name": "ipython",
    "version": 3
   },
   "file_extension": ".py",
   "mimetype": "text/x-python",
   "name": "python",
   "nbconvert_exporter": "python",
   "pygments_lexer": "ipython3",
   "version": "3.10.13"
  }
 },
 "nbformat": 4,
 "nbformat_minor": 2
}
