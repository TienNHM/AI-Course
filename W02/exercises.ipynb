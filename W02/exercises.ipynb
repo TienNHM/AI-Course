{
 "cells": [
  {
   "cell_type": "code",
   "execution_count": 9,
   "metadata": {},
   "outputs": [],
   "source": [
    "import numpy as np"
   ]
  },
  {
   "cell_type": "markdown",
   "metadata": {},
   "source": [
    "### Bài 4: Combine rooms\n",
    "\n",
    "An được giao nhiệm vụ tổ chức thi tiếng Anh trên máy tính cho hai phòng với 7 bạn mỗi bên. Tuy nhiên, vì hôm ấy chỉ còn 1 phòng máy trống, An phải lựa chọn thí sinh để đảm bảo có nhiều nhất 7 bạn tham gia.\n",
    "\n",
    "An cũng biết được phòng 2 có thể thay bằng hình thức thi giấy. An đặt hai danh sách hai bên, chọn lựa giữa hai bạn vị trí đầu tiên, thứ hai, thứ ba,... đến hết. Tiêu chí chọn như sau: \n",
    "- Giữa phòng 1 và 2, ưu tiên phòng 1. \n",
    "- Nếu thí sinh phòng 1 xin thôi thi, chọn thí sinh còn lại. \n",
    "- Nếu cả hai thí sinh đều thôi thi, gán “None” để bổ sung sau. \n",
    "\n",
    "Viết hàm nhận vào hai mảng numpy một chiều chứa số thứ tự thí sinh. Trả về mảng chứa danh sách thí sinh cuối cùng. Lưu ý rằng số thứ tự giữa hai phòng không trùng nhau và thí \n",
    "sinh thôi thi có số thứ tự âm. Ví dụ: \n",
    "- 𝑟𝑜𝑜𝑚_1 = [1, 2, -3, 4, 5,6, -7]\n",
    "- 𝑟𝑜𝑜𝑚_2 = [8,9,10,11,12, -13, -14]\n",
    "\n",
    "Đáp án là: [1,2,10,4,5,6, 𝑁𝑜𝑛𝑒]. \n",
    "\n",
    "Tên hàm: **combine_rooms(room_1, room_2)**"
   ]
  },
  {
   "cell_type": "code",
   "execution_count": 14,
   "metadata": {},
   "outputs": [
    {
     "name": "stdout",
     "output_type": "stream",
     "text": [
      "[1 2 10 4 5 6 None]\n"
     ]
    }
   ],
   "source": [
    "def commine_rooms(room1, room2):\n",
    "    result = []\n",
    "    for i in range(len(room1)):\n",
    "        if room1[i] >= 0:\n",
    "            result.append(room1[i])\n",
    "        elif room2[i] >= 0:\n",
    "            result.append(room2[i])\n",
    "        else:\n",
    "            result.append(None)\n",
    "\n",
    "    return np.array(result)\n",
    "\n",
    "\n",
    "if __name__ == \"__main__\":\n",
    "    room1 = np.array([1, 2, -3, 4, 5,6, -7])\n",
    "    room2 = np.array([8,9,10,11,12, -13, -14])\n",
    "    print(commine_rooms(room1, room2))"
   ]
  },
  {
   "cell_type": "markdown",
   "metadata": {},
   "source": [
    "### Bài 5\n",
    "![image](./images/W02_05.jpg)"
   ]
  },
  {
   "cell_type": "code",
   "execution_count": 4,
   "metadata": {},
   "outputs": [
    {
     "name": "stdout",
     "output_type": "stream",
     "text": [
      "[[1 1 1 1]\n",
      " [2 2 2 2]\n",
      " [3 3 3 3]]\n"
     ]
    }
   ],
   "source": [
    "def broadcast(vec, n):\n",
    "    return np.tile(vec, (1, n))\n",
    "\n",
    "if __name__ == \"__main__\":\n",
    "    vec = np.array([[1], [2], [3]])\n",
    "    print(broadcast(vec, 4))"
   ]
  },
  {
   "cell_type": "markdown",
   "metadata": {},
   "source": [
    "### Bài 6: Ma trận chuyển vị (transpose) được tạo ra bằng cách lật ma trận ban đầu theo trục chéo:\n",
    "\n",
    "![image](https://upload.wikimedia.org/wikipedia/commons/e/e4/Matrix_transpose.gif)"
   ]
  },
  {
   "cell_type": "code",
   "execution_count": 6,
   "metadata": {},
   "outputs": [
    {
     "name": "stdout",
     "output_type": "stream",
     "text": [
      "Ma trận ban đầu: \n",
      "[[1 2 3]\n",
      " [4 5 6]\n",
      " [7 8 9]]\n",
      "Ma trận chuyển vị: \n",
      "[[1 4 7]\n",
      " [2 5 8]\n",
      " [3 6 9]]\n"
     ]
    }
   ],
   "source": [
    "def transpose(matrix):\n",
    "    return np.transpose(matrix)\n",
    "\n",
    "if __name__ == \"__main__\":\n",
    "    matrix = np.array([[1, 2, 3], [4, 5, 6], [7, 8, 9]])\n",
    "    print(\"Ma trận ban đầu: \")\n",
    "    print(matrix)\n",
    "\n",
    "    print(\"Ma trận chuyển vị: \")\n",
    "    print(transpose(matrix))"
   ]
  },
  {
   "cell_type": "markdown",
   "metadata": {},
   "source": [
    "### Bài 7: Tích ma trận và tích hadamard là hai phép tính phổ biến. Hãy viết chương trình nhận hai ma trận đầu vào, in trên màn hình tích của chúng. Nếu không thể tính, hãy in “Khong co tich ma tran” hoặc “Khong co tich Hadamard”. "
   ]
  },
  {
   "cell_type": "code",
   "execution_count": 13,
   "metadata": {},
   "outputs": [
    {
     "name": "stdout",
     "output_type": "stream",
     "text": [
      "Tích của hai ma trận: \n",
      "[[22 28]\n",
      " [49 64]]\n",
      "Hadamard của hai ma trận: \n",
      "Khong co tich Hadamard\n"
     ]
    }
   ],
   "source": [
    "def product(matrix1, matrix2):\n",
    "    if matrix1.shape[1] != matrix2.shape[0]:\n",
    "        return \"Khong co tich ma tran\"\n",
    "    \n",
    "    return np.dot(matrix1, matrix2)\n",
    "\n",
    "def Hadamard(matrix1, matrix2):\n",
    "    if matrix1.shape != matrix2.shape:\n",
    "        return \"Khong co tich Hadamard\"\n",
    "    \n",
    "    return np.multiply(matrix1, matrix2)\n",
    "\n",
    "if __name__ == \"__main__\":\n",
    "    matrix1 = np.array([[1, 2, 3], [4, 5, 6]])\n",
    "    matrix2 = np.array([[1, 2], [3, 4], [5, 6]])\n",
    "\n",
    "    print(\"Tích của hai ma trận: \")\n",
    "    print(product(matrix1, matrix2))\n",
    "\n",
    "    print(\"Hadamard của hai ma trận: \")\n",
    "    print(Hadamard(matrix1, matrix2))"
   ]
  },
  {
   "cell_type": "markdown",
   "metadata": {},
   "source": [
    "### Bài 8: Viết hàm nhận tham chiếu là ma trận và số chỉ mục của cột. Thay toàn bộ giá trị cột đó là 1 rồi trả về kết quả. "
   ]
  },
  {
   "cell_type": "code",
   "execution_count": 17,
   "metadata": {},
   "outputs": [
    {
     "name": "stdout",
     "output_type": "stream",
     "text": [
      "Ma trận ban đầu: \n",
      "[[1 2 3]\n",
      " [4 5 6]]\n",
      "Ma trận sau khi thay thế cột 1 bằng một cột toàn số 1: \n",
      "[[1 1 3]\n",
      " [4 1 6]]\n"
     ]
    }
   ],
   "source": [
    "def replace_col(mat, col_ind):\n",
    "    '''Relace column col_ind of matrix mat with a column of ones (1)\n",
    "    Args:\n",
    "        mat: a numpy matrix\n",
    "        col_ind: index of column to be replaced (0-based)\n",
    "\n",
    "    Returns:\n",
    "        a numpy matrix with column col_ind replaced with a column of ones (1)\n",
    "\n",
    "    Example:\n",
    "        mat = np.array([[1, 2, 3], [4, 5, 6]]) \\n\n",
    "        replace_col(mat, 1) = np.array([[1, 1, 3], [4, 1, 6]])\n",
    "    '''\n",
    "\n",
    "    mat[:, col_ind] = 1\n",
    "    return mat\n",
    "\n",
    "if __name__ == \"__main__\":\n",
    "    mat = np.array([[1, 2, 3], [4, 5, 6]])\n",
    "    print(\"Ma trận ban đầu: \")\n",
    "    print(mat)\n",
    "\n",
    "    col_ind = int(input(\"Nhập chỉ số cột cần thay thế: \"))\n",
    "    print(\"Ma trận sau khi thay thế cột \" + str(col_ind) + \" bằng một cột toàn số 1: \")\n",
    "    print(replace_col(mat, col_ind=col_ind))"
   ]
  }
 ],
 "metadata": {
  "kernelspec": {
   "display_name": "Python 3",
   "language": "python",
   "name": "python3"
  },
  "language_info": {
   "codemirror_mode": {
    "name": "ipython",
    "version": 3
   },
   "file_extension": ".py",
   "mimetype": "text/x-python",
   "name": "python",
   "nbconvert_exporter": "python",
   "pygments_lexer": "ipython3",
   "version": "3.10.13"
  }
 },
 "nbformat": 4,
 "nbformat_minor": 2
}
