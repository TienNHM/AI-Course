{
 "cells": [
  {
   "cell_type": "code",
   "execution_count": 4,
   "metadata": {},
   "outputs": [],
   "source": [
    "import numpy as np"
   ]
  },
  {
   "cell_type": "markdown",
   "metadata": {},
   "source": [
    "### Bài 6: Ma trận chuyển vị (transpose) được tạo ra bằng cách lật ma trận ban đầu theo trục chéo:\n",
    "\n",
    "![image](https://upload.wikimedia.org/wikipedia/commons/e/e4/Matrix_transpose.gif)"
   ]
  },
  {
   "cell_type": "code",
   "execution_count": 6,
   "metadata": {},
   "outputs": [
    {
     "name": "stdout",
     "output_type": "stream",
     "text": [
      "Ma trận ban đầu: \n",
      "[[1 2 3]\n",
      " [4 5 6]\n",
      " [7 8 9]]\n",
      "Ma trận chuyển vị: \n",
      "[[1 4 7]\n",
      " [2 5 8]\n",
      " [3 6 9]]\n"
     ]
    }
   ],
   "source": [
    "def transpose(matrix):\n",
    "    return np.transpose(matrix)\n",
    "\n",
    "if __name__ == \"__main__\":\n",
    "    matrix = np.array([[1, 2, 3], [4, 5, 6], [7, 8, 9]])\n",
    "    print(\"Ma trận ban đầu: \")\n",
    "    print(matrix)\n",
    "\n",
    "    print(\"Ma trận chuyển vị: \")\n",
    "    print(transpose(matrix))"
   ]
  },
  {
   "cell_type": "markdown",
   "metadata": {},
   "source": [
    "### Bài 7: Tích ma trận và tích hadamard là hai phép tính phổ biến. Hãy viết chương trình nhận hai ma trận đầu vào, in trên màn hình tích của chúng. Nếu không thể tính, hãy in “Khong co tich ma tran” hoặc “Khong co tich Hadamard”. "
   ]
  },
  {
   "cell_type": "code",
   "execution_count": 13,
   "metadata": {},
   "outputs": [
    {
     "name": "stdout",
     "output_type": "stream",
     "text": [
      "Tích của hai ma trận: \n",
      "[[22 28]\n",
      " [49 64]]\n",
      "Hadamard của hai ma trận: \n",
      "Khong co tich Hadamard\n"
     ]
    }
   ],
   "source": [
    "def product(matrix1, matrix2):\n",
    "    if matrix1.shape[1] != matrix2.shape[0]:\n",
    "        return \"Khong co tich ma tran\"\n",
    "    \n",
    "    return np.dot(matrix1, matrix2)\n",
    "\n",
    "def Hadamard(matrix1, matrix2):\n",
    "    if matrix1.shape != matrix2.shape:\n",
    "        return \"Khong co tich Hadamard\"\n",
    "    \n",
    "    return np.multiply(matrix1, matrix2)\n",
    "\n",
    "if __name__ == \"__main__\":\n",
    "    matrix1 = np.array([[1, 2, 3], [4, 5, 6]])\n",
    "    matrix2 = np.array([[1, 2], [3, 4], [5, 6]])\n",
    "\n",
    "    print(\"Tích của hai ma trận: \")\n",
    "    print(product(matrix1, matrix2))\n",
    "\n",
    "    print(\"Hadamard của hai ma trận: \")\n",
    "    print(Hadamard(matrix1, matrix2))"
   ]
  }
 ],
 "metadata": {
  "kernelspec": {
   "display_name": "Python 3",
   "language": "python",
   "name": "python3"
  },
  "language_info": {
   "codemirror_mode": {
    "name": "ipython",
    "version": 3
   },
   "file_extension": ".py",
   "mimetype": "text/x-python",
   "name": "python",
   "nbconvert_exporter": "python",
   "pygments_lexer": "ipython3",
   "version": "3.10.13"
  }
 },
 "nbformat": 4,
 "nbformat_minor": 2
}
